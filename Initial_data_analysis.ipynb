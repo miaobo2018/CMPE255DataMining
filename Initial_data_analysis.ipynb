{
 "cells": [
  {
   "cell_type": "code",
   "execution_count": 1,
   "metadata": {},
   "outputs": [],
   "source": [
    "import pandas as pd\n",
    "import numpy as np\n",
    "import matplotlib.pyplot as plt\n",
    "import seaborn as sns\n",
    "color = sns.color_palette()\n",
    "%matplotlib inline"
   ]
  },
  {
   "cell_type": "code",
   "execution_count": 2,
   "metadata": {},
   "outputs": [],
   "source": [
    "data = pd.read_csv(\"amazon_reviews.txt\", delimiter = \"\\t\")"
   ]
  },
  {
   "cell_type": "code",
   "execution_count": 3,
   "metadata": {},
   "outputs": [
    {
     "data": {
      "text/html": [
       "<div>\n",
       "<style scoped>\n",
       "    .dataframe tbody tr th:only-of-type {\n",
       "        vertical-align: middle;\n",
       "    }\n",
       "\n",
       "    .dataframe tbody tr th {\n",
       "        vertical-align: top;\n",
       "    }\n",
       "\n",
       "    .dataframe thead th {\n",
       "        text-align: right;\n",
       "    }\n",
       "</style>\n",
       "<table border=\"1\" class=\"dataframe\">\n",
       "  <thead>\n",
       "    <tr style=\"text-align: right;\">\n",
       "      <th></th>\n",
       "      <th>DOC_ID</th>\n",
       "      <th>LABEL</th>\n",
       "      <th>RATING</th>\n",
       "      <th>VERIFIED_PURCHASE</th>\n",
       "      <th>PRODUCT_CATEGORY</th>\n",
       "      <th>PRODUCT_ID</th>\n",
       "      <th>PRODUCT_TITLE</th>\n",
       "      <th>REVIEW_TITLE</th>\n",
       "      <th>REVIEW_TEXT</th>\n",
       "    </tr>\n",
       "  </thead>\n",
       "  <tbody>\n",
       "    <tr>\n",
       "      <th>0</th>\n",
       "      <td>1</td>\n",
       "      <td>__label1__</td>\n",
       "      <td>4</td>\n",
       "      <td>N</td>\n",
       "      <td>PC</td>\n",
       "      <td>B00008NG7N</td>\n",
       "      <td>Targus PAUK10U Ultra Mini USB Keypad, Black</td>\n",
       "      <td>useful</td>\n",
       "      <td>When least you think so, this product will sav...</td>\n",
       "    </tr>\n",
       "    <tr>\n",
       "      <th>1</th>\n",
       "      <td>2</td>\n",
       "      <td>__label1__</td>\n",
       "      <td>4</td>\n",
       "      <td>Y</td>\n",
       "      <td>Wireless</td>\n",
       "      <td>B00LH0Y3NM</td>\n",
       "      <td>Note 3 Battery : Stalion Strength Replacement ...</td>\n",
       "      <td>New era for batteries</td>\n",
       "      <td>Lithium batteries are something new introduced...</td>\n",
       "    </tr>\n",
       "    <tr>\n",
       "      <th>2</th>\n",
       "      <td>3</td>\n",
       "      <td>__label1__</td>\n",
       "      <td>3</td>\n",
       "      <td>N</td>\n",
       "      <td>Baby</td>\n",
       "      <td>B000I5UZ1Q</td>\n",
       "      <td>Fisher-Price Papasan Cradle Swing, Starlight</td>\n",
       "      <td>doesn't swing very well.</td>\n",
       "      <td>I purchased this swing for my baby. She is 6 m...</td>\n",
       "    </tr>\n",
       "    <tr>\n",
       "      <th>3</th>\n",
       "      <td>4</td>\n",
       "      <td>__label1__</td>\n",
       "      <td>4</td>\n",
       "      <td>N</td>\n",
       "      <td>Office Products</td>\n",
       "      <td>B003822IRA</td>\n",
       "      <td>Casio MS-80B Standard Function Desktop Calculator</td>\n",
       "      <td>Great computing!</td>\n",
       "      <td>I was looking for an inexpensive desk calcolat...</td>\n",
       "    </tr>\n",
       "    <tr>\n",
       "      <th>4</th>\n",
       "      <td>5</td>\n",
       "      <td>__label1__</td>\n",
       "      <td>4</td>\n",
       "      <td>N</td>\n",
       "      <td>Beauty</td>\n",
       "      <td>B00PWSAXAM</td>\n",
       "      <td>Shine Whitening - Zero Peroxide Teeth Whitenin...</td>\n",
       "      <td>Only use twice a week</td>\n",
       "      <td>I only use it twice a week and the results are...</td>\n",
       "    </tr>\n",
       "  </tbody>\n",
       "</table>\n",
       "</div>"
      ],
      "text/plain": [
       "   DOC_ID       LABEL  RATING VERIFIED_PURCHASE PRODUCT_CATEGORY  PRODUCT_ID  \\\n",
       "0       1  __label1__       4                 N               PC  B00008NG7N   \n",
       "1       2  __label1__       4                 Y         Wireless  B00LH0Y3NM   \n",
       "2       3  __label1__       3                 N             Baby  B000I5UZ1Q   \n",
       "3       4  __label1__       4                 N  Office Products  B003822IRA   \n",
       "4       5  __label1__       4                 N           Beauty  B00PWSAXAM   \n",
       "\n",
       "                                       PRODUCT_TITLE  \\\n",
       "0        Targus PAUK10U Ultra Mini USB Keypad, Black   \n",
       "1  Note 3 Battery : Stalion Strength Replacement ...   \n",
       "2       Fisher-Price Papasan Cradle Swing, Starlight   \n",
       "3  Casio MS-80B Standard Function Desktop Calculator   \n",
       "4  Shine Whitening - Zero Peroxide Teeth Whitenin...   \n",
       "\n",
       "               REVIEW_TITLE                                        REVIEW_TEXT  \n",
       "0                    useful  When least you think so, this product will sav...  \n",
       "1     New era for batteries  Lithium batteries are something new introduced...  \n",
       "2  doesn't swing very well.  I purchased this swing for my baby. She is 6 m...  \n",
       "3          Great computing!  I was looking for an inexpensive desk calcolat...  \n",
       "4     Only use twice a week  I only use it twice a week and the results are...  "
      ]
     },
     "execution_count": 3,
     "metadata": {},
     "output_type": "execute_result"
    }
   ],
   "source": [
    "data.head()"
   ]
  },
  {
   "cell_type": "code",
   "execution_count": 4,
   "metadata": {},
   "outputs": [],
   "source": [
    "data.loc[data[\"LABEL\"] == \"__label1__\", \"LABEL\"] = '1'\n",
    "data.loc[data[\"LABEL\"] == \"__label2__\", \"LABEL\"] = '0'"
   ]
  },
  {
   "cell_type": "code",
   "execution_count": 5,
   "metadata": {},
   "outputs": [
    {
     "data": {
      "text/plain": [
       "21000"
      ]
     },
     "execution_count": 5,
     "metadata": {},
     "output_type": "execute_result"
    }
   ],
   "source": [
    "len(data)"
   ]
  },
  {
   "cell_type": "code",
   "execution_count": 6,
   "metadata": {},
   "outputs": [
    {
     "data": {
      "text/plain": [
       "LABEL  PRODUCT_CATEGORY      \n",
       "0      Apparel                   350\n",
       "       Automotive                350\n",
       "       Baby                      350\n",
       "       Beauty                    350\n",
       "       Books                     350\n",
       "       Camera                    350\n",
       "       Electronics               350\n",
       "       Furniture                 350\n",
       "       Grocery                   350\n",
       "       Health & Personal Care    350\n",
       "       Home                      350\n",
       "       Home Entertainment        350\n",
       "       Home Improvement          350\n",
       "       Jewelry                   350\n",
       "       Kitchen                   350\n",
       "       Lawn and Garden           350\n",
       "       Luggage                   350\n",
       "       Musical Instruments       350\n",
       "       Office Products           350\n",
       "       Outdoors                  350\n",
       "       PC                        350\n",
       "       Pet Products              350\n",
       "       Shoes                     350\n",
       "       Sports                    350\n",
       "       Tools                     350\n",
       "       Toys                      350\n",
       "       Video DVD                 350\n",
       "       Video Games               350\n",
       "       Watches                   350\n",
       "       Wireless                  350\n",
       "1      Apparel                   350\n",
       "       Automotive                350\n",
       "       Baby                      350\n",
       "       Beauty                    350\n",
       "       Books                     350\n",
       "       Camera                    350\n",
       "       Electronics               350\n",
       "       Furniture                 350\n",
       "       Grocery                   350\n",
       "       Health & Personal Care    350\n",
       "       Home                      350\n",
       "       Home Entertainment        350\n",
       "       Home Improvement          350\n",
       "       Jewelry                   350\n",
       "       Kitchen                   350\n",
       "       Lawn and Garden           350\n",
       "       Luggage                   350\n",
       "       Musical Instruments       350\n",
       "       Office Products           350\n",
       "       Outdoors                  350\n",
       "       PC                        350\n",
       "       Pet Products              350\n",
       "       Shoes                     350\n",
       "       Sports                    350\n",
       "       Tools                     350\n",
       "       Toys                      350\n",
       "       Video DVD                 350\n",
       "       Video Games               350\n",
       "       Watches                   350\n",
       "       Wireless                  350\n",
       "Name: PRODUCT_CATEGORY, dtype: int64"
      ]
     },
     "execution_count": 6,
     "metadata": {},
     "output_type": "execute_result"
    }
   ],
   "source": [
    "cnt_srs=data.groupby(data[\"LABEL\"]).PRODUCT_CATEGORY.value_counts()\n",
    "cnt_srs"
   ]
  },
  {
   "cell_type": "code",
   "execution_count": 14,
   "metadata": {},
   "outputs": [
    {
     "data": {
      "image/png": "[encoded data removed]",
      "text/plain": [
       "<Figure size 1152x576 with 1 Axes>"
      ]
     },
     "metadata": {
      "needs_background": "light"
     },
     "output_type": "display_data"
    }
   ],
   "source": [
    "plt.figure(figsize=(16,8))\n",
    "sns.barplot(cnt_srs.index, cnt_srs.values, alpha=0.8, color=color[0])\n",
    "plt.ylabel('Number of Occurrences')\n",
    "plt.xlabel('(Label, Product Category)')\n",
    "plt.title('Label Vs Product Category')\n",
    "plt.xticks(rotation='vertical')\n",
    "plt.show()"
   ]
  },
  {
   "cell_type": "code",
   "execution_count": 15,
   "metadata": {},
   "outputs": [
    {
     "data": {
      "text/plain": [
       "LABEL  RATING\n",
       "0      5         6151\n",
       "       4         1974\n",
       "       3          942\n",
       "       1          868\n",
       "       2          565\n",
       "1      5         6059\n",
       "       4         1999\n",
       "       3          926\n",
       "       1          889\n",
       "       2          627\n",
       "Name: RATING, dtype: int64"
      ]
     },
     "execution_count": 15,
     "metadata": {},
     "output_type": "execute_result"
    }
   ],
   "source": [
    "cnt_srs = data.groupby(data[\"LABEL\"]).RATING.value_counts()\n",
    "cnt_srs"
   ]
  },
  {
   "cell_type": "code",
   "execution_count": 16,
   "metadata": {},
   "outputs": [
    {
     "data": {
      "image/png": "[encoded data removed]",
      "text/plain": [
       "<Figure size 1152x576 with 1 Axes>"
      ]
     },
     "metadata": {
      "needs_background": "light"
     },
     "output_type": "display_data"
    }
   ],
   "source": [
    "plt.figure(figsize=(16,8))\n",
    "sns.barplot(cnt_srs.index, cnt_srs.values, alpha=0.8, color=color[0])\n",
    "plt.ylabel('Number of Occurrences')\n",
    "plt.xlabel('(Label, Rating)')\n",
    "plt.title('Label Vs Rating')\n",
    "plt.xticks(rotation='horizontal')\n",
    "plt.show()"
   ]
  },
  {
   "cell_type": "code",
   "execution_count": 17,
   "metadata": {},
   "outputs": [],
   "source": [
    "cnt_srs = data.groupby(data[\"RATING\"]).PRODUCT_CATEGORY.value_counts()"
   ]
  },
  {
   "cell_type": "code",
   "execution_count": 18,
   "metadata": {},
   "outputs": [
    {
     "data": {
      "image/png": "[encoded data removed]",
      "text/plain": [
       "<Figure size 1152x576 with 1 Axes>"
      ]
     },
     "metadata": {
      "needs_background": "light"
     },
     "output_type": "display_data"
    }
   ],
   "source": [
    "plt.figure(figsize=(16,8))\n",
    "sns.barplot(cnt_srs.index, cnt_srs.values, alpha=0.8, color=color[0])\n",
    "plt.ylabel('Number of Occurrences')\n",
    "plt.xlabel('(Rating, Product Category)')\n",
    "plt.title('Rating Vs Product_Category')\n",
    "plt.xticks(rotation='vertical')\n",
    "plt.show()"
   ]
  },
  {
   "cell_type": "code",
   "execution_count": 19,
   "metadata": {},
   "outputs": [
    {
     "data": {
      "text/plain": [
       "VERIFIED_PURCHASE  LABEL\n",
       "N                  1        7623\n",
       "                   0        1679\n",
       "Y                  0        8821\n",
       "                   1        2877\n",
       "Name: LABEL, dtype: int64"
      ]
     },
     "execution_count": 19,
     "metadata": {},
     "output_type": "execute_result"
    }
   ],
   "source": [
    "cnt_srs = data.groupby(\"VERIFIED_PURCHASE\").LABEL.value_counts()\n",
    "cnt_srs"
   ]
  },
  {
   "cell_type": "code",
   "execution_count": 20,
   "metadata": {},
   "outputs": [
    {
     "data": {
      "image/png": "[encoded data removed]",
      "text/plain": [
       "<Figure size 1152x576 with 1 Axes>"
      ]
     },
     "metadata": {
      "needs_background": "light"
     },
     "output_type": "display_data"
    }
   ],
   "source": [
    "plt.figure(figsize=(16,8))\n",
    "sns.barplot(cnt_srs.index, cnt_srs.values, alpha=0.8, color=color[0])\n",
    "plt.ylabel('Number of Occurrences')\n",
    "plt.xlabel('(Verified Purchase (Y/N), Label)')\n",
    "plt.title('Verified_Purchase Vs Labels')\n",
    "plt.xticks(rotation='horizontal')\n",
    "plt.show()"
   ]
  },
  {
   "cell_type": "code",
   "execution_count": 21,
   "metadata": {},
   "outputs": [],
   "source": [
    "df1 = data.groupby(\"LABEL\").REVIEW_TEXT"
   ]
  },
  {
   "cell_type": "code",
   "execution_count": 23,
   "metadata": {},
   "outputs": [],
   "source": [
    "data['TEXT_LENGTH'] = data['REVIEW_TEXT'].apply(len)"
   ]
  },
  {
   "cell_type": "code",
   "execution_count": 24,
   "metadata": {},
   "outputs": [
    {
     "data": {
      "text/plain": [
       "LABEL\n",
       "0    428.102857\n",
       "1    316.550000\n",
       "Name: TEXT_LENGTH, dtype: float64"
      ]
     },
     "execution_count": 24,
     "metadata": {},
     "output_type": "execute_result"
    }
   ],
   "source": [
    "cnt_srs = data.groupby([\"LABEL\"]).TEXT_LENGTH.agg(lambda x: sum(x)/len(x))\n",
    "cnt_srs"
   ]
  },
  {
   "cell_type": "code",
   "execution_count": 25,
   "metadata": {},
   "outputs": [
    {
     "data": {
      "image/png": "[encoded data removed]",
      "text/plain": [
       "<Figure size 1152x576 with 1 Axes>"
      ]
     },
     "metadata": {
      "needs_background": "light"
     },
     "output_type": "display_data"
    }
   ],
   "source": [
    "plt.figure(figsize=(16,8))\n",
    "sns.barplot(cnt_srs.index, cnt_srs.values, alpha=0.8, color=color[0])\n",
    "plt.ylabel('Text Length')\n",
    "plt.xlabel('Label')\n",
    "plt.title('Text length Vs Label')\n",
    "plt.xticks(rotation='horizontal')\n",
    "plt.show()"
   ]
  },
  {
   "cell_type": "code",
   "execution_count": 26,
   "metadata": {},
   "outputs": [],
   "source": [
    "data['num_sentences'] = data['REVIEW_TEXT'].apply(lambda x: len(str(x).split('.')))"
   ]
  },
  {
   "cell_type": "code",
   "execution_count": 27,
   "metadata": {},
   "outputs": [
    {
     "data": {
      "text/html": [
       "<div>\n",
       "<style scoped>\n",
       "    .dataframe tbody tr th:only-of-type {\n",
       "        vertical-align: middle;\n",
       "    }\n",
       "\n",
       "    .dataframe tbody tr th {\n",
       "        vertical-align: top;\n",
       "    }\n",
       "\n",
       "    .dataframe thead th {\n",
       "        text-align: right;\n",
       "    }\n",
       "</style>\n",
       "<table border=\"1\" class=\"dataframe\">\n",
       "  <thead>\n",
       "    <tr style=\"text-align: right;\">\n",
       "      <th></th>\n",
       "      <th>DOC_ID</th>\n",
       "      <th>LABEL</th>\n",
       "      <th>RATING</th>\n",
       "      <th>VERIFIED_PURCHASE</th>\n",
       "      <th>PRODUCT_CATEGORY</th>\n",
       "      <th>PRODUCT_ID</th>\n",
       "      <th>PRODUCT_TITLE</th>\n",
       "      <th>REVIEW_TITLE</th>\n",
       "      <th>REVIEW_TEXT</th>\n",
       "      <th>TEXT_LENGTH</th>\n",
       "      <th>num_sentences</th>\n",
       "    </tr>\n",
       "  </thead>\n",
       "  <tbody>\n",
       "    <tr>\n",
       "      <th>0</th>\n",
       "      <td>1</td>\n",
       "      <td>1</td>\n",
       "      <td>4</td>\n",
       "      <td>N</td>\n",
       "      <td>PC</td>\n",
       "      <td>B00008NG7N</td>\n",
       "      <td>Targus PAUK10U Ultra Mini USB Keypad, Black</td>\n",
       "      <td>useful</td>\n",
       "      <td>When least you think so, this product will sav...</td>\n",
       "      <td>116</td>\n",
       "      <td>3</td>\n",
       "    </tr>\n",
       "    <tr>\n",
       "      <th>1</th>\n",
       "      <td>2</td>\n",
       "      <td>1</td>\n",
       "      <td>4</td>\n",
       "      <td>Y</td>\n",
       "      <td>Wireless</td>\n",
       "      <td>B00LH0Y3NM</td>\n",
       "      <td>Note 3 Battery : Stalion Strength Replacement ...</td>\n",
       "      <td>New era for batteries</td>\n",
       "      <td>Lithium batteries are something new introduced...</td>\n",
       "      <td>404</td>\n",
       "      <td>4</td>\n",
       "    </tr>\n",
       "    <tr>\n",
       "      <th>2</th>\n",
       "      <td>3</td>\n",
       "      <td>1</td>\n",
       "      <td>3</td>\n",
       "      <td>N</td>\n",
       "      <td>Baby</td>\n",
       "      <td>B000I5UZ1Q</td>\n",
       "      <td>Fisher-Price Papasan Cradle Swing, Starlight</td>\n",
       "      <td>doesn't swing very well.</td>\n",
       "      <td>I purchased this swing for my baby. She is 6 m...</td>\n",
       "      <td>248</td>\n",
       "      <td>6</td>\n",
       "    </tr>\n",
       "    <tr>\n",
       "      <th>3</th>\n",
       "      <td>4</td>\n",
       "      <td>1</td>\n",
       "      <td>4</td>\n",
       "      <td>N</td>\n",
       "      <td>Office Products</td>\n",
       "      <td>B003822IRA</td>\n",
       "      <td>Casio MS-80B Standard Function Desktop Calculator</td>\n",
       "      <td>Great computing!</td>\n",
       "      <td>I was looking for an inexpensive desk calcolat...</td>\n",
       "      <td>212</td>\n",
       "      <td>5</td>\n",
       "    </tr>\n",
       "    <tr>\n",
       "      <th>4</th>\n",
       "      <td>5</td>\n",
       "      <td>1</td>\n",
       "      <td>4</td>\n",
       "      <td>N</td>\n",
       "      <td>Beauty</td>\n",
       "      <td>B00PWSAXAM</td>\n",
       "      <td>Shine Whitening - Zero Peroxide Teeth Whitenin...</td>\n",
       "      <td>Only use twice a week</td>\n",
       "      <td>I only use it twice a week and the results are...</td>\n",
       "      <td>331</td>\n",
       "      <td>4</td>\n",
       "    </tr>\n",
       "    <tr>\n",
       "      <th>...</th>\n",
       "      <td>...</td>\n",
       "      <td>...</td>\n",
       "      <td>...</td>\n",
       "      <td>...</td>\n",
       "      <td>...</td>\n",
       "      <td>...</td>\n",
       "      <td>...</td>\n",
       "      <td>...</td>\n",
       "      <td>...</td>\n",
       "      <td>...</td>\n",
       "      <td>...</td>\n",
       "    </tr>\n",
       "    <tr>\n",
       "      <th>20995</th>\n",
       "      <td>20996</td>\n",
       "      <td>0</td>\n",
       "      <td>4</td>\n",
       "      <td>Y</td>\n",
       "      <td>Shoes</td>\n",
       "      <td>B00BXYM8T8</td>\n",
       "      <td>Madden Girl Women's Gettaw Pump,Red Patent,7.5...</td>\n",
       "      <td>wide width is great!</td>\n",
       "      <td>I bought these for work.  I have high arches, ...</td>\n",
       "      <td>100</td>\n",
       "      <td>4</td>\n",
       "    </tr>\n",
       "    <tr>\n",
       "      <th>20996</th>\n",
       "      <td>20997</td>\n",
       "      <td>0</td>\n",
       "      <td>4</td>\n",
       "      <td>Y</td>\n",
       "      <td>Shoes</td>\n",
       "      <td>B0014C2ORK</td>\n",
       "      <td>crocs Unisex Classic Clog,Khaki,6 US Men's / 8...</td>\n",
       "      <td>Love crocs!</td>\n",
       "      <td>Crocs are one of only two brands of shoes that...</td>\n",
       "      <td>115</td>\n",
       "      <td>1</td>\n",
       "    </tr>\n",
       "    <tr>\n",
       "      <th>20997</th>\n",
       "      <td>20998</td>\n",
       "      <td>0</td>\n",
       "      <td>5</td>\n",
       "      <td>Y</td>\n",
       "      <td>Shoes</td>\n",
       "      <td>B000EX8CCQ</td>\n",
       "      <td>Minnetonka Men's 703 Leather Laced Softsole Mo...</td>\n",
       "      <td>I love moccasins This fit like it was custom m...</td>\n",
       "      <td>I love moccasins  This fit like it was custom ...</td>\n",
       "      <td>297</td>\n",
       "      <td>4</td>\n",
       "    </tr>\n",
       "    <tr>\n",
       "      <th>20998</th>\n",
       "      <td>20999</td>\n",
       "      <td>0</td>\n",
       "      <td>5</td>\n",
       "      <td>Y</td>\n",
       "      <td>Shoes</td>\n",
       "      <td>B00748YHVE</td>\n",
       "      <td>Ariat Womens Unbridled Fatbaby 9 B Powder Brown</td>\n",
       "      <td>This fit well, comfortable, best investment</td>\n",
       "      <td>I wish these were a little more durable. I got...</td>\n",
       "      <td>287</td>\n",
       "      <td>6</td>\n",
       "    </tr>\n",
       "    <tr>\n",
       "      <th>20999</th>\n",
       "      <td>21000</td>\n",
       "      <td>0</td>\n",
       "      <td>4</td>\n",
       "      <td>Y</td>\n",
       "      <td>Shoes</td>\n",
       "      <td>B00A46KTLU</td>\n",
       "      <td>VIBRAM FIVEFINGERS SPEED XC MENS HIKING SHOES,...</td>\n",
       "      <td>Love these shoes, except for the laces</td>\n",
       "      <td>I've been looking for a replacement for my bel...</td>\n",
       "      <td>742</td>\n",
       "      <td>5</td>\n",
       "    </tr>\n",
       "  </tbody>\n",
       "</table>\n",
       "<p>21000 rows × 11 columns</p>\n",
       "</div>"
      ],
      "text/plain": [
       "       DOC_ID LABEL  RATING VERIFIED_PURCHASE PRODUCT_CATEGORY  PRODUCT_ID  \\\n",
       "0           1     1       4                 N               PC  B00008NG7N   \n",
       "1           2     1       4                 Y         Wireless  B00LH0Y3NM   \n",
       "2           3     1       3                 N             Baby  B000I5UZ1Q   \n",
       "3           4     1       4                 N  Office Products  B003822IRA   \n",
       "4           5     1       4                 N           Beauty  B00PWSAXAM   \n",
       "...       ...   ...     ...               ...              ...         ...   \n",
       "20995   20996     0       4                 Y            Shoes  B00BXYM8T8   \n",
       "20996   20997     0       4                 Y            Shoes  B0014C2ORK   \n",
       "20997   20998     0       5                 Y            Shoes  B000EX8CCQ   \n",
       "20998   20999     0       5                 Y            Shoes  B00748YHVE   \n",
       "20999   21000     0       4                 Y            Shoes  B00A46KTLU   \n",
       "\n",
       "                                           PRODUCT_TITLE  \\\n",
       "0            Targus PAUK10U Ultra Mini USB Keypad, Black   \n",
       "1      Note 3 Battery : Stalion Strength Replacement ...   \n",
       "2           Fisher-Price Papasan Cradle Swing, Starlight   \n",
       "3      Casio MS-80B Standard Function Desktop Calculator   \n",
       "4      Shine Whitening - Zero Peroxide Teeth Whitenin...   \n",
       "...                                                  ...   \n",
       "20995  Madden Girl Women's Gettaw Pump,Red Patent,7.5...   \n",
       "20996  crocs Unisex Classic Clog,Khaki,6 US Men's / 8...   \n",
       "20997  Minnetonka Men's 703 Leather Laced Softsole Mo...   \n",
       "20998    Ariat Womens Unbridled Fatbaby 9 B Powder Brown   \n",
       "20999  VIBRAM FIVEFINGERS SPEED XC MENS HIKING SHOES,...   \n",
       "\n",
       "                                            REVIEW_TITLE  \\\n",
       "0                                                 useful   \n",
       "1                                  New era for batteries   \n",
       "2                               doesn't swing very well.   \n",
       "3                                       Great computing!   \n",
       "4                                  Only use twice a week   \n",
       "...                                                  ...   \n",
       "20995                               wide width is great!   \n",
       "20996                                        Love crocs!   \n",
       "20997  I love moccasins This fit like it was custom m...   \n",
       "20998        This fit well, comfortable, best investment   \n",
       "20999             Love these shoes, except for the laces   \n",
       "\n",
       "                                             REVIEW_TEXT  TEXT_LENGTH  \\\n",
       "0      When least you think so, this product will sav...          116   \n",
       "1      Lithium batteries are something new introduced...          404   \n",
       "2      I purchased this swing for my baby. She is 6 m...          248   \n",
       "3      I was looking for an inexpensive desk calcolat...          212   \n",
       "4      I only use it twice a week and the results are...          331   \n",
       "...                                                  ...          ...   \n",
       "20995  I bought these for work.  I have high arches, ...          100   \n",
       "20996  Crocs are one of only two brands of shoes that...          115   \n",
       "20997  I love moccasins  This fit like it was custom ...          297   \n",
       "20998  I wish these were a little more durable. I got...          287   \n",
       "20999  I've been looking for a replacement for my bel...          742   \n",
       "\n",
       "       num_sentences  \n",
       "0                  3  \n",
       "1                  4  \n",
       "2                  6  \n",
       "3                  5  \n",
       "4                  4  \n",
       "...              ...  \n",
       "20995              4  \n",
       "20996              1  \n",
       "20997              4  \n",
       "20998              6  \n",
       "20999              5  \n",
       "\n",
       "[21000 rows x 11 columns]"
      ]
     },
     "execution_count": 27,
     "metadata": {},
     "output_type": "execute_result"
    }
   ],
   "source": [
    "data"
   ]
  },
  {
   "cell_type": "code",
   "execution_count": 21,
   "metadata": {},
   "outputs": [
    {
     "name": "stdout",
     "output_type": "stream",
     "text": [
      "Requirement already satisfied: textstat in /Users/bomiao/anaconda3/lib/python3.7/site-packages (0.6.0)\r\n",
      "Requirement already satisfied: pyphen in /Users/bomiao/anaconda3/lib/python3.7/site-packages (from textstat) (0.9.5)\r\n"
     ]
    }
   ],
   "source": [
    "# !pip install textstat"
   ]
  },
  {
   "cell_type": "code",
   "execution_count": 28,
   "metadata": {},
   "outputs": [],
   "source": [
    "import textstat\n",
    "from textstat.textstat import textstat\n",
    "data[\"FK_Score\"] = data[\"REVIEW_TEXT\"].apply(textstat.flesch_kincaid_grade)"
   ]
  },
  {
   "cell_type": "code",
   "execution_count": 29,
   "metadata": {},
   "outputs": [
    {
     "data": {
      "text/plain": [
       "LABEL\n",
       "0    13.803848\n",
       "1     8.007886\n",
       "Name: FK_Score, dtype: float64"
      ]
     },
     "execution_count": 29,
     "metadata": {},
     "output_type": "execute_result"
    }
   ],
   "source": [
    "cnt_srs = data.groupby([\"LABEL\"]).FK_Score.agg(lambda x: sum(x)/len(x))\n",
    "cnt_srs"
   ]
  },
  {
   "cell_type": "code",
   "execution_count": 30,
   "metadata": {},
   "outputs": [
    {
     "data": {
      "image/png": "[encoded data removed]",
      "text/plain": [
       "<Figure size 1152x576 with 1 Axes>"
      ]
     },
     "metadata": {
      "needs_background": "light"
     },
     "output_type": "display_data"
    }
   ],
   "source": [
    "plt.figure(figsize=(16,8))\n",
    "sns.barplot(cnt_srs.index, cnt_srs.values, alpha=0.8, color=color[0])\n",
    "plt.ylabel('FKscore')\n",
    "plt.xlabel('Label')\n",
    "plt.title('FKscore Vs Label')\n",
    "plt.xticks(rotation='horizontal')\n",
    "plt.show()"
   ]
  },
  {
   "cell_type": "code",
   "execution_count": 31,
   "metadata": {},
   "outputs": [
    {
     "name": "stderr",
     "output_type": "stream",
     "text": [
      "[nltk_data] Downloading package stopwords to\n",
      "[nltk_data]     /Users/bomiao/nltk_data...\n",
      "[nltk_data]   Package stopwords is already up-to-date!\n"
     ]
    }
   ],
   "source": [
    "import nltk\n",
    "nltk.download('stopwords')\n",
    "wpt = nltk.WordPunctTokenizer()\n",
    "stop_words = nltk.corpus.stopwords.words('english')"
   ]
  },
  {
   "cell_type": "code",
   "execution_count": 32,
   "metadata": {},
   "outputs": [],
   "source": [
    "def stopCount(x):\n",
    "    sum =0\n",
    "    for char in x.split():\n",
    "        sum+= char in stop_words\n",
    "    return sum\n",
    "data['stop_count'] = data['REVIEW_TEXT'].apply(stopCount)"
   ]
  },
  {
   "cell_type": "code",
   "execution_count": 33,
   "metadata": {},
   "outputs": [
    {
     "data": {
      "text/plain": [
       "LABEL\n",
       "0    32.519048\n",
       "1    24.696190\n",
       "Name: stop_count, dtype: float64"
      ]
     },
     "execution_count": 33,
     "metadata": {},
     "output_type": "execute_result"
    }
   ],
   "source": [
    "cnt_srs = data.groupby([\"LABEL\"]).stop_count.agg(lambda x: sum(x)/len(x))\n",
    "cnt_srs"
   ]
  },
  {
   "cell_type": "code",
   "execution_count": 34,
   "metadata": {},
   "outputs": [
    {
     "data": {
      "image/png": "[encoded data removed]",
      "text/plain": [
       "<Figure size 1152x576 with 1 Axes>"
      ]
     },
     "metadata": {
      "needs_background": "light"
     },
     "output_type": "display_data"
    }
   ],
   "source": [
    "plt.figure(figsize=(16,8))\n",
    "sns.barplot(cnt_srs.index, cnt_srs.values, alpha=0.8, color=color[0])\n",
    "plt.ylabel('Stopword counts')\n",
    "plt.xlabel('Label')\n",
    "plt.title('Stopwords Counts Vs Label')\n",
    "plt.xticks(rotation='horizontal')\n",
    "plt.show()"
   ]
  },
  {
   "cell_type": "code",
   "execution_count": 35,
   "metadata": {},
   "outputs": [],
   "source": [
    "def capsCount(x):\n",
    "    sum =0\n",
    "    for char in x:\n",
    "        sum+= char in \"QWERTYUIOPASDFGHJKLZXCVBNM\"\n",
    "    return sum\n",
    "data['caps_count'] = data['REVIEW_TEXT'].apply(capsCount)"
   ]
  },
  {
   "cell_type": "code",
   "execution_count": 36,
   "metadata": {},
   "outputs": [
    {
     "data": {
      "text/plain": [
       "LABEL\n",
       "0    12.099810\n",
       "1     8.712667\n",
       "Name: caps_count, dtype: float64"
      ]
     },
     "execution_count": 36,
     "metadata": {},
     "output_type": "execute_result"
    }
   ],
   "source": [
    "cnt_srs = data.groupby([\"LABEL\"]).caps_count.agg(lambda x: sum(x)/len(x))\n",
    "cnt_srs"
   ]
  },
  {
   "cell_type": "code",
   "execution_count": 37,
   "metadata": {},
   "outputs": [
    {
     "data": {
      "image/png": "[encoded data removed]",
      "text/plain": [
       "<Figure size 1152x576 with 1 Axes>"
      ]
     },
     "metadata": {
      "needs_background": "light"
     },
     "output_type": "display_data"
    }
   ],
   "source": [
    "plt.figure(figsize=(16,8))\n",
    "sns.barplot(cnt_srs.index, cnt_srs.values, alpha=0.8, color=color[0])\n",
    "plt.ylabel('Caps_count')\n",
    "plt.xlabel('Label')\n",
    "plt.title('Caps_count Vs Label')\n",
    "plt.xticks(rotation='horizontal')\n",
    "plt.show()"
   ]
  },
  {
   "cell_type": "code",
   "execution_count": 38,
   "metadata": {},
   "outputs": [],
   "source": [
    "import string\n",
    "count = lambda l1,l2: sum([1 for x in l1 if x in l2])\n",
    "def punctCount(x):\n",
    "    return count(x, set(string.punctuation))\n",
    "data['punct_count'] = data['REVIEW_TEXT'].apply(punctCount)"
   ]
  },
  {
   "cell_type": "code",
   "execution_count": 39,
   "metadata": {},
   "outputs": [
    {
     "data": {
      "text/plain": [
       "LABEL\n",
       "0    15.571524\n",
       "1    10.182571\n",
       "Name: punct_count, dtype: float64"
      ]
     },
     "execution_count": 39,
     "metadata": {},
     "output_type": "execute_result"
    }
   ],
   "source": [
    "cnt_srs = data.groupby([\"LABEL\"]).punct_count.agg(lambda x: sum(x)/len(x))\n",
    "cnt_srs"
   ]
  },
  {
   "cell_type": "code",
   "execution_count": 40,
   "metadata": {},
   "outputs": [
    {
     "data": {
      "image/png": "[encoded data removed]",
      "text/plain": [
       "<Figure size 1152x576 with 1 Axes>"
      ]
     },
     "metadata": {
      "needs_background": "light"
     },
     "output_type": "display_data"
    }
   ],
   "source": [
    "plt.figure(figsize=(16,8))\n",
    "sns.barplot(cnt_srs.index, cnt_srs.values, alpha=0.8, color=color[0])\n",
    "plt.ylabel('Punctuation_count')\n",
    "plt.xlabel('Label')\n",
    "plt.title('Punctuation_count Vs Label')\n",
    "plt.xticks(rotation='horizontal')\n",
    "plt.show()"
   ]
  },
  {
   "cell_type": "code",
   "execution_count": 41,
   "metadata": {},
   "outputs": [],
   "source": [
    "import re\n",
    "import string\n",
    "match_list = []\n",
    "\n",
    "def checkName(title,text):\n",
    "    matches = []\n",
    "    for word in title.split():\n",
    "        word = \"\".join((char for char in word if char not in string.punctuation))\n",
    "        myreg = r'\\b'+word+r'\\b'\n",
    "        r = re.compile(myreg, flags=re.I | re.X)\n",
    "        matches.append(r.findall(text))\n",
    "    return len(matches)\n",
    "\n",
    "for a,b in zip(data.PRODUCT_TITLE, data.REVIEW_TEXT):\n",
    "    number_of_matches = checkName(a,b)\n",
    "    match_list.append(number_of_matches)\n",
    "    \n",
    "data[\"matchesDf\"] = match_list"
   ]
  },
  {
   "cell_type": "code",
   "execution_count": 42,
   "metadata": {},
   "outputs": [
    {
     "data": {
      "text/plain": [
       "LABEL\n",
       "0    10.570667\n",
       "1    13.823143\n",
       "Name: matchesDf, dtype: float64"
      ]
     },
     "execution_count": 42,
     "metadata": {},
     "output_type": "execute_result"
    }
   ],
   "source": [
    "cnt_srs = data.groupby([\"LABEL\"]).matchesDf.agg(lambda x: sum(x)/len(x))\n",
    "cnt_srs"
   ]
  },
  {
   "cell_type": "code",
   "execution_count": 43,
   "metadata": {},
   "outputs": [
    {
     "data": {
      "image/png": "[encoded data removed]",
      "text/plain": [
       "<Figure size 1152x576 with 1 Axes>"
      ]
     },
     "metadata": {
      "needs_background": "light"
     },
     "output_type": "display_data"
    }
   ],
   "source": [
    "plt.figure(figsize=(16,8))\n",
    "sns.barplot(cnt_srs.index, cnt_srs.values, alpha=0.8, color=color[0])\n",
    "plt.ylabel('ProductName_Matches_count')\n",
    "plt.xlabel('Label')\n",
    "plt.title('ProductName_Matches_count Vs Label')\n",
    "plt.xticks(rotation='horizontal')\n",
    "plt.show()"
   ]
  },
  {
   "cell_type": "code",
   "execution_count": 44,
   "metadata": {},
   "outputs": [],
   "source": [
    "data[\"emojis\"] = data[\"REVIEW_TEXT\"].apply(lambda x: 1 if \";)\" in x.split() or \":)\" in x.split() or \":-)\" in x.split() else 0)"
   ]
  },
  {
   "cell_type": "code",
   "execution_count": 45,
   "metadata": {},
   "outputs": [
    {
     "data": {
      "text/plain": [
       "LABEL\n",
       "0    107\n",
       "1     85\n",
       "Name: emojis, dtype: int64"
      ]
     },
     "execution_count": 45,
     "metadata": {},
     "output_type": "execute_result"
    }
   ],
   "source": [
    "cnt_srs = data.groupby([\"LABEL\"]).emojis.agg(lambda x: sum(x))\n",
    "cnt_srs"
   ]
  },
  {
   "cell_type": "code",
   "execution_count": 46,
   "metadata": {},
   "outputs": [
    {
     "data": {
      "image/png": "[encoded data removed]",
      "text/plain": [
       "<Figure size 1152x576 with 1 Axes>"
      ]
     },
     "metadata": {
      "needs_background": "light"
     },
     "output_type": "display_data"
    }
   ],
   "source": [
    "plt.figure(figsize=(16,8))\n",
    "sns.barplot(cnt_srs.index, cnt_srs.values, alpha=0.8, color=color[0])\n",
    "plt.ylabel('Emojis_count')\n",
    "plt.xlabel('Label')\n",
    "plt.title('Emojis_count Vs Label')\n",
    "plt.xticks(rotation='horizontal')\n",
    "plt.show()"
   ]
  },
  {
   "cell_type": "markdown",
   "metadata": {},
   "source": [
    "# SENTIMENT CLASSIFIER "
   ]
  },
  {
   "cell_type": "code",
   "execution_count": 47,
   "metadata": {},
   "outputs": [],
   "source": [
    "#SENTIMENT CLASSIFIER\n",
    "data.loc[data[\"RATING\"] < 3, \"RATING\"] = 0\n",
    "data.loc[data[\"RATING\"] > 3, \"RATING\"] = 1"
   ]
  },
  {
   "cell_type": "code",
   "execution_count": 48,
   "metadata": {},
   "outputs": [
    {
     "data": {
      "text/plain": [
       "1    16183\n",
       "0     2949\n",
       "3     1868\n",
       "Name: RATING, dtype: int64"
      ]
     },
     "execution_count": 48,
     "metadata": {},
     "output_type": "execute_result"
    }
   ],
   "source": [
    "data.RATING.value_counts()"
   ]
  },
  {
   "cell_type": "code",
   "execution_count": 49,
   "metadata": {},
   "outputs": [
    {
     "name": "stdout",
     "output_type": "stream",
     "text": [
      "16183\n",
      "3237\n"
     ]
    }
   ],
   "source": [
    "data1 = data.loc[data['RATING'] == 1]\n",
    "print(len(data1))\n",
    "data2 = data1.sample(frac=0.2, replace=True)\n",
    "print(len(data2))\n",
    "data3 = data1 = data.loc[data['RATING'] == 0]"
   ]
  },
  {
   "cell_type": "code",
   "execution_count": 50,
   "metadata": {},
   "outputs": [
    {
     "data": {
      "text/html": [
       "<div>\n",
       "<style scoped>\n",
       "    .dataframe tbody tr th:only-of-type {\n",
       "        vertical-align: middle;\n",
       "    }\n",
       "\n",
       "    .dataframe tbody tr th {\n",
       "        vertical-align: top;\n",
       "    }\n",
       "\n",
       "    .dataframe thead th {\n",
       "        text-align: right;\n",
       "    }\n",
       "</style>\n",
       "<table border=\"1\" class=\"dataframe\">\n",
       "  <thead>\n",
       "    <tr style=\"text-align: right;\">\n",
       "      <th></th>\n",
       "      <th>DOC_ID</th>\n",
       "      <th>LABEL</th>\n",
       "      <th>RATING</th>\n",
       "      <th>VERIFIED_PURCHASE</th>\n",
       "      <th>PRODUCT_CATEGORY</th>\n",
       "      <th>PRODUCT_ID</th>\n",
       "      <th>PRODUCT_TITLE</th>\n",
       "      <th>REVIEW_TITLE</th>\n",
       "      <th>REVIEW_TEXT</th>\n",
       "      <th>TEXT_LENGTH</th>\n",
       "      <th>num_sentences</th>\n",
       "      <th>FK_Score</th>\n",
       "      <th>stop_count</th>\n",
       "      <th>caps_count</th>\n",
       "      <th>punct_count</th>\n",
       "      <th>matchesDf</th>\n",
       "      <th>emojis</th>\n",
       "    </tr>\n",
       "  </thead>\n",
       "  <tbody>\n",
       "    <tr>\n",
       "      <th>0</th>\n",
       "      <td>11397</td>\n",
       "      <td>0</td>\n",
       "      <td>1</td>\n",
       "      <td>N</td>\n",
       "      <td>Video DVD</td>\n",
       "      <td>B0008KLVA0</td>\n",
       "      <td>Prime Cut (1972)</td>\n",
       "      <td>Kind of proto-Tarantino half serious crime mov...</td>\n",
       "      <td>I rather liked this weird, shocking and less t...</td>\n",
       "      <td>3306</td>\n",
       "      <td>33</td>\n",
       "      <td>26.8</td>\n",
       "      <td>218</td>\n",
       "      <td>111</td>\n",
       "      <td>130</td>\n",
       "      <td>3</td>\n",
       "      <td>0</td>\n",
       "    </tr>\n",
       "    <tr>\n",
       "      <th>1</th>\n",
       "      <td>12970</td>\n",
       "      <td>0</td>\n",
       "      <td>1</td>\n",
       "      <td>Y</td>\n",
       "      <td>Toys</td>\n",
       "      <td>B007Q0ODLY</td>\n",
       "      <td>LEGO Friends 3937 Olivia's Speedboat</td>\n",
       "      <td>LEGO Friends</td>\n",
       "      <td>Granddaughter LOVED this, got it for Christmas...</td>\n",
       "      <td>142</td>\n",
       "      <td>3</td>\n",
       "      <td>6.2</td>\n",
       "      <td>7</td>\n",
       "      <td>10</td>\n",
       "      <td>9</td>\n",
       "      <td>5</td>\n",
       "      <td>0</td>\n",
       "    </tr>\n",
       "    <tr>\n",
       "      <th>2</th>\n",
       "      <td>8396</td>\n",
       "      <td>1</td>\n",
       "      <td>1</td>\n",
       "      <td>Y</td>\n",
       "      <td>Grocery</td>\n",
       "      <td>B00F6MFXCW</td>\n",
       "      <td>Crispy Green 100% All Natural Freeze-Dried Fru...</td>\n",
       "      <td>Great for kids and adults to as a snack on the...</td>\n",
       "      <td>DELICIOUS!  All natural with no sugar added.  ...</td>\n",
       "      <td>123</td>\n",
       "      <td>3</td>\n",
       "      <td>10.3</td>\n",
       "      <td>11</td>\n",
       "      <td>12</td>\n",
       "      <td>4</td>\n",
       "      <td>14</td>\n",
       "      <td>0</td>\n",
       "    </tr>\n",
       "    <tr>\n",
       "      <th>3</th>\n",
       "      <td>186</td>\n",
       "      <td>1</td>\n",
       "      <td>1</td>\n",
       "      <td>N</td>\n",
       "      <td>Health &amp; Personal Care</td>\n",
       "      <td>B004BHAJAE</td>\n",
       "      <td>Life Extension Skin Restoring Ceramides w/ Lip...</td>\n",
       "      <td>Not bad</td>\n",
       "      <td>I have been using these for about 2 months and...</td>\n",
       "      <td>664</td>\n",
       "      <td>7</td>\n",
       "      <td>7.2</td>\n",
       "      <td>40</td>\n",
       "      <td>50</td>\n",
       "      <td>27</td>\n",
       "      <td>10</td>\n",
       "      <td>0</td>\n",
       "    </tr>\n",
       "    <tr>\n",
       "      <th>4</th>\n",
       "      <td>4244</td>\n",
       "      <td>1</td>\n",
       "      <td>1</td>\n",
       "      <td>Y</td>\n",
       "      <td>Wireless</td>\n",
       "      <td>B00IZC34H6</td>\n",
       "      <td>Bluetooth Receiver, Danibos NFC-enabled Blueto...</td>\n",
       "      <td>GOOD TO USE</td>\n",
       "      <td>Performed as expected. While device is out of ...</td>\n",
       "      <td>219</td>\n",
       "      <td>5</td>\n",
       "      <td>8.0</td>\n",
       "      <td>10</td>\n",
       "      <td>4</td>\n",
       "      <td>6</td>\n",
       "      <td>16</td>\n",
       "      <td>0</td>\n",
       "    </tr>\n",
       "    <tr>\n",
       "      <th>...</th>\n",
       "      <td>...</td>\n",
       "      <td>...</td>\n",
       "      <td>...</td>\n",
       "      <td>...</td>\n",
       "      <td>...</td>\n",
       "      <td>...</td>\n",
       "      <td>...</td>\n",
       "      <td>...</td>\n",
       "      <td>...</td>\n",
       "      <td>...</td>\n",
       "      <td>...</td>\n",
       "      <td>...</td>\n",
       "      <td>...</td>\n",
       "      <td>...</td>\n",
       "      <td>...</td>\n",
       "      <td>...</td>\n",
       "      <td>...</td>\n",
       "    </tr>\n",
       "    <tr>\n",
       "      <th>6181</th>\n",
       "      <td>20961</td>\n",
       "      <td>0</td>\n",
       "      <td>0</td>\n",
       "      <td>Y</td>\n",
       "      <td>Shoes</td>\n",
       "      <td>B0069F61NU</td>\n",
       "      <td>MG Collection Lucca Designer Inspired Glamour ...</td>\n",
       "      <td>not same</td>\n",
       "      <td>the bag is not same as the picture, nothing is...</td>\n",
       "      <td>109</td>\n",
       "      <td>2</td>\n",
       "      <td>9.5</td>\n",
       "      <td>13</td>\n",
       "      <td>1</td>\n",
       "      <td>5</td>\n",
       "      <td>12</td>\n",
       "      <td>0</td>\n",
       "    </tr>\n",
       "    <tr>\n",
       "      <th>6182</th>\n",
       "      <td>20967</td>\n",
       "      <td>0</td>\n",
       "      <td>0</td>\n",
       "      <td>Y</td>\n",
       "      <td>Shoes</td>\n",
       "      <td>B005B9GFUY</td>\n",
       "      <td>Fila Women's Memory Flux Slip Resistant Traini...</td>\n",
       "      <td>Too man\"ish\"</td>\n",
       "      <td>These are so manish looking I sent them back. ...</td>\n",
       "      <td>146</td>\n",
       "      <td>4</td>\n",
       "      <td>3.1</td>\n",
       "      <td>9</td>\n",
       "      <td>5</td>\n",
       "      <td>7</td>\n",
       "      <td>12</td>\n",
       "      <td>0</td>\n",
       "    </tr>\n",
       "    <tr>\n",
       "      <th>6183</th>\n",
       "      <td>20970</td>\n",
       "      <td>0</td>\n",
       "      <td>0</td>\n",
       "      <td>Y</td>\n",
       "      <td>Shoes</td>\n",
       "      <td>B008MI08ZO</td>\n",
       "      <td>Stride Rite Star Wars Morphing Light-Up Sneake...</td>\n",
       "      <td>JUNK!</td>\n",
       "      <td>We are on our third pair in less than 2 months...</td>\n",
       "      <td>485</td>\n",
       "      <td>4</td>\n",
       "      <td>38.3</td>\n",
       "      <td>52</td>\n",
       "      <td>8</td>\n",
       "      <td>7</td>\n",
       "      <td>14</td>\n",
       "      <td>0</td>\n",
       "    </tr>\n",
       "    <tr>\n",
       "      <th>6184</th>\n",
       "      <td>20983</td>\n",
       "      <td>0</td>\n",
       "      <td>0</td>\n",
       "      <td>Y</td>\n",
       "      <td>Shoes</td>\n",
       "      <td>B00IA6US7G</td>\n",
       "      <td>West Blvd Womens LIMA MOCCASIN Boots 3-Layer F...</td>\n",
       "      <td>Good thing they are only for one outfit to hav...</td>\n",
       "      <td>These run I would say two sizes smaller than w...</td>\n",
       "      <td>487</td>\n",
       "      <td>8</td>\n",
       "      <td>5.1</td>\n",
       "      <td>41</td>\n",
       "      <td>14</td>\n",
       "      <td>16</td>\n",
       "      <td>18</td>\n",
       "      <td>0</td>\n",
       "    </tr>\n",
       "    <tr>\n",
       "      <th>6185</th>\n",
       "      <td>20993</td>\n",
       "      <td>0</td>\n",
       "      <td>0</td>\n",
       "      <td>Y</td>\n",
       "      <td>Shoes</td>\n",
       "      <td>B00AO3EELY</td>\n",
       "      <td>Saucony Men's Hurricane 15 Running Shoe,White/...</td>\n",
       "      <td>It is too white!</td>\n",
       "      <td>My son had ordered it but when it arrived, he ...</td>\n",
       "      <td>135</td>\n",
       "      <td>3</td>\n",
       "      <td>5.8</td>\n",
       "      <td>11</td>\n",
       "      <td>2</td>\n",
       "      <td>3</td>\n",
       "      <td>8</td>\n",
       "      <td>0</td>\n",
       "    </tr>\n",
       "  </tbody>\n",
       "</table>\n",
       "<p>6186 rows × 17 columns</p>\n",
       "</div>"
      ],
      "text/plain": [
       "      DOC_ID LABEL  RATING VERIFIED_PURCHASE        PRODUCT_CATEGORY  \\\n",
       "0      11397     0       1                 N               Video DVD   \n",
       "1      12970     0       1                 Y                    Toys   \n",
       "2       8396     1       1                 Y                 Grocery   \n",
       "3        186     1       1                 N  Health & Personal Care   \n",
       "4       4244     1       1                 Y                Wireless   \n",
       "...      ...   ...     ...               ...                     ...   \n",
       "6181   20961     0       0                 Y                   Shoes   \n",
       "6182   20967     0       0                 Y                   Shoes   \n",
       "6183   20970     0       0                 Y                   Shoes   \n",
       "6184   20983     0       0                 Y                   Shoes   \n",
       "6185   20993     0       0                 Y                   Shoes   \n",
       "\n",
       "      PRODUCT_ID                                      PRODUCT_TITLE  \\\n",
       "0     B0008KLVA0                                   Prime Cut (1972)   \n",
       "1     B007Q0ODLY               LEGO Friends 3937 Olivia's Speedboat   \n",
       "2     B00F6MFXCW  Crispy Green 100% All Natural Freeze-Dried Fru...   \n",
       "3     B004BHAJAE  Life Extension Skin Restoring Ceramides w/ Lip...   \n",
       "4     B00IZC34H6  Bluetooth Receiver, Danibos NFC-enabled Blueto...   \n",
       "...          ...                                                ...   \n",
       "6181  B0069F61NU  MG Collection Lucca Designer Inspired Glamour ...   \n",
       "6182  B005B9GFUY  Fila Women's Memory Flux Slip Resistant Traini...   \n",
       "6183  B008MI08ZO  Stride Rite Star Wars Morphing Light-Up Sneake...   \n",
       "6184  B00IA6US7G  West Blvd Womens LIMA MOCCASIN Boots 3-Layer F...   \n",
       "6185  B00AO3EELY  Saucony Men's Hurricane 15 Running Shoe,White/...   \n",
       "\n",
       "                                           REVIEW_TITLE  \\\n",
       "0     Kind of proto-Tarantino half serious crime mov...   \n",
       "1                                          LEGO Friends   \n",
       "2     Great for kids and adults to as a snack on the...   \n",
       "3                                               Not bad   \n",
       "4                                           GOOD TO USE   \n",
       "...                                                 ...   \n",
       "6181                                           not same   \n",
       "6182                                       Too man\"ish\"   \n",
       "6183                                              JUNK!   \n",
       "6184  Good thing they are only for one outfit to hav...   \n",
       "6185                                   It is too white!   \n",
       "\n",
       "                                            REVIEW_TEXT  TEXT_LENGTH  \\\n",
       "0     I rather liked this weird, shocking and less t...         3306   \n",
       "1     Granddaughter LOVED this, got it for Christmas...          142   \n",
       "2     DELICIOUS!  All natural with no sugar added.  ...          123   \n",
       "3     I have been using these for about 2 months and...          664   \n",
       "4     Performed as expected. While device is out of ...          219   \n",
       "...                                                 ...          ...   \n",
       "6181  the bag is not same as the picture, nothing is...          109   \n",
       "6182  These are so manish looking I sent them back. ...          146   \n",
       "6183  We are on our third pair in less than 2 months...          485   \n",
       "6184  These run I would say two sizes smaller than w...          487   \n",
       "6185  My son had ordered it but when it arrived, he ...          135   \n",
       "\n",
       "      num_sentences  FK_Score  stop_count  caps_count  punct_count  matchesDf  \\\n",
       "0                33      26.8         218         111          130          3   \n",
       "1                 3       6.2           7          10            9          5   \n",
       "2                 3      10.3          11          12            4         14   \n",
       "3                 7       7.2          40          50           27         10   \n",
       "4                 5       8.0          10           4            6         16   \n",
       "...             ...       ...         ...         ...          ...        ...   \n",
       "6181              2       9.5          13           1            5         12   \n",
       "6182              4       3.1           9           5            7         12   \n",
       "6183              4      38.3          52           8            7         14   \n",
       "6184              8       5.1          41          14           16         18   \n",
       "6185              3       5.8          11           2            3          8   \n",
       "\n",
       "      emojis  \n",
       "0          0  \n",
       "1          0  \n",
       "2          0  \n",
       "3          0  \n",
       "4          0  \n",
       "...      ...  \n",
       "6181       0  \n",
       "6182       0  \n",
       "6183       0  \n",
       "6184       0  \n",
       "6185       0  \n",
       "\n",
       "[6186 rows x 17 columns]"
      ]
     },
     "execution_count": 50,
     "metadata": {},
     "output_type": "execute_result"
    }
   ],
   "source": [
    "data4 = pd.concat([data2, data3], ignore_index=True)\n",
    "data4"
   ]
  },
  {
   "cell_type": "code",
   "execution_count": 51,
   "metadata": {},
   "outputs": [
    {
     "name": "stderr",
     "output_type": "stream",
     "text": [
      "[nltk_data] Downloading package punkt to /Users/bomiao/nltk_data...\n",
      "[nltk_data]   Package punkt is already up-to-date!\n"
     ]
    },
    {
     "data": {
      "text/plain": [
       "True"
      ]
     },
     "execution_count": 51,
     "metadata": {},
     "output_type": "execute_result"
    }
   ],
   "source": [
    "import csv                               # csv reader\n",
    "from sklearn.svm import LinearSVC\n",
    "from sklearn.svm import NuSVC\n",
    "from nltk.classify import SklearnClassifier\n",
    "from random import shuffle\n",
    "from sklearn.pipeline import Pipeline\n",
    "from sklearn.feature_extraction.text import CountVectorizer\n",
    "from sklearn.metrics import precision_recall_fscore_support\n",
    "from sklearn.metrics import accuracy_score\n",
    "import numpy as np\n",
    "import nltk\n",
    "import string\n",
    "from nltk.corpus import stopwords\n",
    "from nltk.tokenize import RegexpTokenizer\n",
    "from nltk.stem import WordNetLemmatizer\n",
    "from sklearn.feature_extraction.text import TfidfVectorizer\n",
    "from nltk.util import ngrams\n",
    "from nltk.tokenize import word_tokenize\n",
    "nltk.download('punkt')"
   ]
  },
  {
   "cell_type": "code",
   "execution_count": 52,
   "metadata": {},
   "outputs": [],
   "source": [
    "rawData = data4[[\"REVIEW_TEXT\", \"RATING\"]]\n",
    "rawData = [tuple(x) for x in rawData.values]"
   ]
  },
  {
   "cell_type": "code",
   "execution_count": 53,
   "metadata": {},
   "outputs": [],
   "source": [
    "table = str.maketrans({key: None for key in string.punctuation})\n",
    "def preProcess(text):\n",
    "    # Should return a list of tokens\n",
    "    lemmatizer = WordNetLemmatizer()\n",
    "    filtered_tokens=[]\n",
    "    lemmatized_tokens = []\n",
    "    stop_words = set(stopwords.words('english'))\n",
    "    text = text.translate(table)\n",
    "    for w in text.split(\" \"):\n",
    "        if w not in stop_words:\n",
    "            lemmatized_tokens.append(lemmatizer.lemmatize(w.lower()))\n",
    "        filtered_tokens = [' '.join(l) for l in nltk.bigrams(lemmatized_tokens)] + lemmatized_tokens\n",
    "    return filtered_tokens"
   ]
  },
  {
   "cell_type": "code",
   "execution_count": 54,
   "metadata": {},
   "outputs": [],
   "source": [
    "featureDict = {} \n",
    "\n",
    "def toFeatureVector(tokens):\n",
    "    localDict = {}\n",
    "    for token in tokens:\n",
    "        if token not in featureDict:\n",
    "            featureDict[token] = 1\n",
    "        else:\n",
    "            featureDict[token] = +1\n",
    "   \n",
    "        if token not in localDict:\n",
    "            localDict[token] = 1\n",
    "        else:\n",
    "            localDict[token] = +1\n",
    "    \n",
    "    return localDict"
   ]
  },
  {
   "cell_type": "code",
   "execution_count": 59,
   "metadata": {},
   "outputs": [],
   "source": [
    "def crossValidate(dataset, folds, svc):\n",
    "    shuffle(dataset)\n",
    "    cv_results = []\n",
    "    foldSize = int(len(dataset)/folds)\n",
    "    for i in range(0,len(dataset),foldSize):\n",
    "        if svc == 'LinearSVC':\n",
    "            classifier = trainLinearClassifier(dataset[:i]+dataset[foldSize+i:])\n",
    "        elif svc == 'NuSVC':\n",
    "            classifier = trainNuClassifier(dataset[:i]+dataset[foldSize+i:])\n",
    "        y_pred = predictLabels(dataset[i:i+foldSize],classifier)\n",
    "        a = accuracy_score(list(map(lambda d : d[1], dataset[i:i+foldSize])), y_pred)\n",
    "        (p,r,f,_) = precision_recall_fscore_support(list(map(lambda d : d[1], dataset[i:i+foldSize])), y_pred, average ='macro')\n",
    "        cv_results.append((a,p,r,f))\n",
    "    cv_results = (np.mean(np.array(cv_results),axis=0))\n",
    "    return cv_results"
   ]
  },
  {
   "cell_type": "code",
   "execution_count": 60,
   "metadata": {},
   "outputs": [],
   "source": [
    "def splitData(percentage):\n",
    "    dataSamples = len(rawData)\n",
    "    halfOfData = int(len(rawData)/2)\n",
    "    trainingSamples = int((percentage*dataSamples)/2)\n",
    "    for (Text, Label) in rawData[:trainingSamples] + rawData[halfOfData:halfOfData+trainingSamples]:\n",
    "        trainData.append((toFeatureVector(preProcess(Text)),Label))\n",
    "    for (Text, Label) in rawData[trainingSamples:halfOfData] + rawData[halfOfData+trainingSamples:]:\n",
    "        testData.append((toFeatureVector(preProcess(Text)),Label))"
   ]
  },
  {
   "cell_type": "code",
   "execution_count": 61,
   "metadata": {},
   "outputs": [],
   "source": [
    "# LinearSVC\n",
    "def trainLinearClassifier(trainData):\n",
    "    pipeline =  Pipeline([('svc', LinearSVC(C=0.01))])\n",
    "    return SklearnClassifier(pipeline).train(trainData)\n",
    "\n",
    "# NuSVC\n",
    "def trainNuClassifier(trainData):\n",
    "    pipeline =  Pipeline([('svc', NuSVC(kernel='rbf'))])\n",
    "    return SklearnClassifier(pipeline).train(trainData)"
   ]
  },
  {
   "cell_type": "code",
   "execution_count": 62,
   "metadata": {},
   "outputs": [],
   "source": [
    "def predictLabels(reviewSamples, classifier):\n",
    "    return classifier.classify_many(map(lambda t: t[0], reviewSamples))"
   ]
  },
  {
   "cell_type": "code",
   "execution_count": 63,
   "metadata": {},
   "outputs": [
    {
     "name": "stdout",
     "output_type": "stream",
     "text": [
      "Now 6186 rawData, 0 trainData, 0 testData\n",
      "Preparing training and test data...\n",
      "Now 6186 rawData, 4948 trainData, 1238 testData\n",
      "Training Samples: \n",
      "4948\n",
      "Features: \n",
      "175730\n",
      "LinearSVC: \n",
      "Mean of cross-validations (Accuracy, Precision, Recall, Fscore):  [0.86644277 0.86977979 0.86201465 0.86375968]\n",
      "NuSVC with kernel = rbf: \n",
      "Mean of cross-validations (Accuracy, Precision, Recall, Fscore):  [0.87099742 0.87062849 0.87136434 0.87064719]\n"
     ]
    }
   ],
   "source": [
    "trainData = []        \n",
    "testData = []    \n",
    "\n",
    "print(\"Now %d rawData, %d trainData, %d testData\" % (len(rawData), len(trainData), len(testData)),\n",
    "      \"Preparing training and test data...\",sep='\\n')\n",
    "splitData(0.8)\n",
    "# We print the number of training samples and the number of features\n",
    "print(\"Now %d rawData, %d trainData, %d testData\" % (len(rawData), len(trainData), len(testData)),\n",
    "      \"Training Samples: \", len(trainData), \"Features: \", len(featureDict), sep='\\n')\n",
    "print(\"LinearSVC: \")\n",
    "print(\"Mean of cross-validations (Accuracy, Precision, Recall, Fscore): \", crossValidate(trainData, 10, 'LinearSVC'))\n",
    "print(\"NuSVC with kernel = rbf: \")\n",
    "print(\"Mean of cross-validations (Accuracy, Precision, Recall, Fscore): \", crossValidate(trainData, 10, 'NuSVC'))"
   ]
  },
  {
   "cell_type": "markdown",
   "metadata": {
    "collapsed": true
   },
   "source": [
    "# ADDING EXTRA FEATURES"
   ]
  },
  {
   "cell_type": "code",
   "execution_count": 64,
   "metadata": {},
   "outputs": [],
   "source": [
    "rawData = data4[[\"REVIEW_TEXT\", \"VERIFIED_PURCHASE\", \"PRODUCT_CATEGORY\", \"LABEL\", \"RATING\"]]\n",
    "rawData = [tuple(x) for x in rawData.values]"
   ]
  },
  {
   "cell_type": "code",
   "execution_count": 65,
   "metadata": {},
   "outputs": [],
   "source": [
    "def splitData(percentage):\n",
    "    dataSamples = len(rawData)\n",
    "    halfOfData = int(len(rawData)/2)\n",
    "    trainingSamples = int((percentage*dataSamples)/2)\n",
    "    for (Text, verified_Purchase, product_Category, Label, Rating) in rawData[:trainingSamples] + rawData[halfOfData:halfOfData+trainingSamples]:\n",
    "        trainData.append((toFeatureVector(preProcess(Text), verified_Purchase, product_Category, Label), Rating))\n",
    "    for (Text, verified_Purchase, product_Category, Label, Rating) in rawData[trainingSamples:halfOfData] + rawData[halfOfData+trainingSamples:]:\n",
    "        testData.append((toFeatureVector(preProcess(Text), verified_Purchase, product_Category, Label), Rating))"
   ]
  },
  {
   "cell_type": "code",
   "execution_count": 66,
   "metadata": {},
   "outputs": [],
   "source": [
    "featureDict = {} # A global dictionary of features\n",
    "\n",
    "def toFeatureVector(tokens, verified_Purchase, product_Category, labels):\n",
    "    localDict = {}\n",
    "    \n",
    "#Labels\n",
    "    featureDict[\"L\"] = 1   \n",
    "    localDict[\"L\"] = labels\n",
    "\n",
    "#Verified_Purchase\n",
    "    featureDict[\"VP\"] = 1\n",
    "            \n",
    "    if verified_Purchase == \"N\":\n",
    "        localDict[\"VP\"] = 0\n",
    "    else:\n",
    "        localDict[\"VP\"] = 1\n",
    "\n",
    "#Product_Category\n",
    "    if product_Category not in featureDict:\n",
    "        featureDict[product_Category] = 1\n",
    "    else:\n",
    "        featureDict[product_Category] = +1\n",
    "            \n",
    "    if product_Category not in localDict:\n",
    "        localDict[product_Category] = 1\n",
    "    else:\n",
    "        localDict[product_Category] = +1        \n",
    "            \n",
    "#Text        \n",
    "    for token in tokens:\n",
    "        if token not in featureDict:\n",
    "            featureDict[token] = 1\n",
    "        else:\n",
    "            featureDict[token] = +1\n",
    "            \n",
    "        if token not in localDict:\n",
    "            localDict[token] = 1\n",
    "        else:\n",
    "            localDict[token] = +1\n",
    "    \n",
    "    return localDict"
   ]
  },
  {
   "cell_type": "code",
   "execution_count": 67,
   "metadata": {},
   "outputs": [
    {
     "name": "stdout",
     "output_type": "stream",
     "text": [
      "Now 6186 rawData, 0 trainData, 0 testData\n",
      "Preparing training and test data...\n",
      "LinearSVC: \n",
      "Mean of cross-validations (Accuracy, Precision, Recall, Fscore):  [0.84500368 0.84518751 0.84460597 0.84387996]\n",
      "NuSVC with kernel = rbf: \n",
      "Mean of cross-validations (Accuracy, Precision, Recall, Fscore):  [0.85323887 0.85688375 0.85824008 0.85269853]\n"
     ]
    }
   ],
   "source": [
    "trainData = []        \n",
    "testData = []    \n",
    "\n",
    "# We split the raw dataset into a set of training data and a set of test data (80/20)\n",
    "print(\"Now %d rawData, %d trainData, %d testData\" % (len(rawData), len(trainData), len(testData)),\n",
    "      \"Preparing training and test data...\",sep='\\n')\n",
    "splitData(0.8)\n",
    "# We print the number of training samples and the number of features\n",
    "# print(\"Now %d rawData, %d trainData, %d testData\" % (len(rawData), len(trainData), len(testData)),\n",
    "#       \"Training Samples: \", len(trainData), \"Features: \", len(featureDict), sep='\\n')\n",
    "# print(\"Mean of cross-validations (Accuracy, Precision, Recall, Fscore): \", crossValidate(trainData, 10))\n",
    "\n",
    "print(\"LinearSVC: \")\n",
    "print(\"Mean of cross-validations (Accuracy, Precision, Recall, Fscore): \", crossValidate(trainData, 10, 'LinearSVC'))\n",
    "print(\"NuSVC with kernel = rbf: \")\n",
    "print(\"Mean of cross-validations (Accuracy, Precision, Recall, Fscore): \", crossValidate(trainData, 10, 'NuSVC'))"
   ]
  },
  {
   "cell_type": "code",
   "execution_count": 68,
   "metadata": {},
   "outputs": [
    {
     "name": "stdout",
     "output_type": "stream",
     "text": [
      "LinearSVC: \n",
      "accuracy:  0.8109854604200323\n",
      "Precision:  0.8211264455170444\n",
      "Recall:  0.8109854604200323\n",
      "f1-score:  0.8094813435191616\n",
      "NuSVC with kernel = rbf: \n",
      "accuracy:  0.8069466882067852\n",
      "Precision:  0.816769015298427\n",
      "Recall:  0.8069466882067852\n",
      "f1-score:  0.8054384542496102\n"
     ]
    }
   ],
   "source": [
    "print('LinearSVC: ')\n",
    "classifier = trainLinearClassifier(trainData)\n",
    "predictions = predictLabels(testData, classifier)\n",
    "true_labels = list(map(lambda d: d[1], testData))\n",
    "a = accuracy_score(true_labels, predictions)\n",
    "p, r, f1, _ = precision_recall_fscore_support(true_labels, predictions, average='macro')\n",
    "print(\"accuracy: \", a)\n",
    "print(\"Precision: \", p)\n",
    "print(\"Recall: \", a)\n",
    "print(\"f1-score: \", f1)\n",
    "\n",
    "print('NuSVC with kernel = rbf: ')\n",
    "classifier = trainNuClassifier(trainData)\n",
    "predictions = predictLabels(testData, classifier)\n",
    "true_labels = list(map(lambda d: d[1], testData))\n",
    "a = accuracy_score(true_labels, predictions)\n",
    "p, r, f1, _ = precision_recall_fscore_support(true_labels, predictions, average='macro')\n",
    "print(\"accuracy: \", a)\n",
    "print(\"Precision: \", p)\n",
    "print(\"Recall: \", a)\n",
    "print(\"f1-score: \", f1)"
   ]
  }
 ],
 "metadata": {
  "kernelspec": {
   "display_name": "Python 3",
   "language": "python",
   "name": "python3"
  },
  "language_info": {
   "codemirror_mode": {
    "name": "ipython",
    "version": 3
   },
   "file_extension": ".py",
   "mimetype": "text/x-python",
   "name": "python",
   "nbconvert_exporter": "python",
   "pygments_lexer": "ipython3",
   "version": "3.7.2"
  }
 },
 "nbformat": 4,
 "nbformat_minor": 2
}
